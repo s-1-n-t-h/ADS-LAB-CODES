{
  "nbformat": 4,
  "nbformat_minor": 0,
  "metadata": {
    "colab": {
      "name": "dictionaries",
      "provenance": [],
      "collapsed_sections": []
    },
    "kernelspec": {
      "name": "python3",
      "display_name": "Python 3"
    },
    "language_info": {
      "name": "python"
    }
  },
  "cells": [
    {
      "cell_type": "code",
      "metadata": {
        "id": "ke7bbmH8gxhK"
      },
      "source": [
        "# creating an empty dictonary"
      ],
      "execution_count": 1,
      "outputs": []
    },
    {
      "cell_type": "code",
      "metadata": {
        "id": "YN26GSJdg10k"
      },
      "source": [
        "d = {}"
      ],
      "execution_count": 2,
      "outputs": []
    },
    {
      "cell_type": "code",
      "metadata": {
        "colab": {
          "base_uri": "https://localhost:8080/"
        },
        "id": "tyIM14Ndg3CP",
        "outputId": "5aaf14ca-c662-4c07-ed8d-a1d41c12cc96"
      },
      "source": [
        "d"
      ],
      "execution_count": 3,
      "outputs": [
        {
          "output_type": "execute_result",
          "data": {
            "text/plain": [
              "{}"
            ]
          },
          "metadata": {},
          "execution_count": 3
        }
      ]
    },
    {
      "cell_type": "code",
      "metadata": {
        "id": "DZpfi5Rfg3XX"
      },
      "source": [
        "d1 = dict()"
      ],
      "execution_count": 4,
      "outputs": []
    },
    {
      "cell_type": "code",
      "metadata": {
        "colab": {
          "base_uri": "https://localhost:8080/"
        },
        "id": "4_YvYqTZg8yg",
        "outputId": "8dc72541-1c62-434e-c33d-ddcdd3959f41"
      },
      "source": [
        "d1"
      ],
      "execution_count": 5,
      "outputs": [
        {
          "output_type": "execute_result",
          "data": {
            "text/plain": [
              "{}"
            ]
          },
          "metadata": {},
          "execution_count": 5
        }
      ]
    },
    {
      "cell_type": "code",
      "metadata": {
        "id": "XD4jfVrKg9yI"
      },
      "source": [
        "# creating dictionary with values"
      ],
      "execution_count": 6,
      "outputs": []
    },
    {
      "cell_type": "code",
      "metadata": {
        "id": "_AzIAtsghBXr"
      },
      "source": [
        "d2 = {1:'man',2:'women',3:'boy',4:'girl'}"
      ],
      "execution_count": 7,
      "outputs": []
    },
    {
      "cell_type": "code",
      "metadata": {
        "colab": {
          "base_uri": "https://localhost:8080/"
        },
        "id": "ggHCrhZ0hIAz",
        "outputId": "33fc90b3-e5f3-469f-90ff-b99a8250ac37"
      },
      "source": [
        "d2"
      ],
      "execution_count": 8,
      "outputs": [
        {
          "output_type": "execute_result",
          "data": {
            "text/plain": [
              "{1: 'man', 2: 'women', 3: 'boy', 4: 'girl'}"
            ]
          },
          "metadata": {},
          "execution_count": 8
        }
      ]
    },
    {
      "cell_type": "code",
      "metadata": {
        "id": "dKJxK9o4hIuh"
      },
      "source": [
        "# operations on dictionaries"
      ],
      "execution_count": 9,
      "outputs": []
    },
    {
      "cell_type": "code",
      "metadata": {
        "id": "m49plhQDhNsq"
      },
      "source": [
        "# adding or inserting elements into a dictionary"
      ],
      "execution_count": 10,
      "outputs": []
    },
    {
      "cell_type": "code",
      "metadata": {
        "id": "runbZ-3rhR8R"
      },
      "source": [
        "d = {}"
      ],
      "execution_count": 11,
      "outputs": []
    },
    {
      "cell_type": "code",
      "metadata": {
        "id": "bget5ZLfhfo3"
      },
      "source": [
        "# using keys"
      ],
      "execution_count": 16,
      "outputs": []
    },
    {
      "cell_type": "code",
      "metadata": {
        "id": "rJ-p76eVhT0m"
      },
      "source": [
        "d['apple'] = 1"
      ],
      "execution_count": 12,
      "outputs": []
    },
    {
      "cell_type": "code",
      "metadata": {
        "id": "9ylPW6mGhYrY"
      },
      "source": [
        "d['mango'] = 2"
      ],
      "execution_count": 13,
      "outputs": []
    },
    {
      "cell_type": "code",
      "metadata": {
        "id": "x7kEPV4Xha6I"
      },
      "source": [
        "d['guava'] = 3"
      ],
      "execution_count": 14,
      "outputs": []
    },
    {
      "cell_type": "code",
      "metadata": {
        "colab": {
          "base_uri": "https://localhost:8080/"
        },
        "id": "1HC4BmSthc_c",
        "outputId": "3c6ad787-5dae-497d-ba6f-b7d6178c0016"
      },
      "source": [
        "d"
      ],
      "execution_count": 15,
      "outputs": [
        {
          "output_type": "execute_result",
          "data": {
            "text/plain": [
              "{'apple': 1, 'guava': 3, 'mango': 2}"
            ]
          },
          "metadata": {},
          "execution_count": 15
        }
      ]
    },
    {
      "cell_type": "code",
      "metadata": {
        "id": "YnfMnSbihdcK"
      },
      "source": [
        "# using update method -- at max iterable can contain 2 items appended as key value pairs"
      ],
      "execution_count": 27,
      "outputs": []
    },
    {
      "cell_type": "code",
      "metadata": {
        "id": "6vChPu9phmt9"
      },
      "source": [
        "l = ['pomegranate',4]"
      ],
      "execution_count": 50,
      "outputs": []
    },
    {
      "cell_type": "code",
      "metadata": {
        "id": "Re1fRXysiJ2-"
      },
      "source": [
        "d.update([l])"
      ],
      "execution_count": 51,
      "outputs": []
    },
    {
      "cell_type": "code",
      "metadata": {
        "colab": {
          "base_uri": "https://localhost:8080/"
        },
        "id": "wWqRn2SciLo3",
        "outputId": "9881a0c7-441c-40f8-8278-055a5a888226"
      },
      "source": [
        "d"
      ],
      "execution_count": 52,
      "outputs": [
        {
          "output_type": "execute_result",
          "data": {
            "text/plain": [
              "{'apple': 1,\n",
              " 'grapes': 9,\n",
              " 'guava': 3,\n",
              " 'mango': 2,\n",
              " 'orange': 5,\n",
              " 'papaya': 6,\n",
              " 'pomegranate': 4}"
            ]
          },
          "metadata": {},
          "execution_count": 52
        }
      ]
    },
    {
      "cell_type": "code",
      "metadata": {
        "id": "HUpW-xQvi9Lu"
      },
      "source": [
        "d2 = {'orange':5,'papaya':6,'grapes':9}"
      ],
      "execution_count": 53,
      "outputs": []
    },
    {
      "cell_type": "code",
      "metadata": {
        "id": "YW6XamtNjUac"
      },
      "source": [
        "d.update(d2)"
      ],
      "execution_count": 54,
      "outputs": []
    },
    {
      "cell_type": "code",
      "metadata": {
        "colab": {
          "base_uri": "https://localhost:8080/"
        },
        "id": "AOvZbOScjWYn",
        "outputId": "4560e341-08c5-4f60-d5a3-656f63ebd0dd"
      },
      "source": [
        "d"
      ],
      "execution_count": 55,
      "outputs": [
        {
          "output_type": "execute_result",
          "data": {
            "text/plain": [
              "{'apple': 1,\n",
              " 'grapes': 9,\n",
              " 'guava': 3,\n",
              " 'mango': 2,\n",
              " 'orange': 5,\n",
              " 'papaya': 6,\n",
              " 'pomegranate': 4}"
            ]
          },
          "metadata": {},
          "execution_count": 55
        }
      ]
    },
    {
      "cell_type": "code",
      "metadata": {
        "id": "r27Df6EJjXPI"
      },
      "source": [
        "d.update(y=2,x=3,z=1)"
      ],
      "execution_count": 79,
      "outputs": []
    },
    {
      "cell_type": "code",
      "metadata": {
        "colab": {
          "base_uri": "https://localhost:8080/"
        },
        "id": "HSzLiPSGkQAK",
        "outputId": "edbcd728-b0b2-4d32-f76d-f67537d340b4"
      },
      "source": [
        "d"
      ],
      "execution_count": 59,
      "outputs": [
        {
          "output_type": "execute_result",
          "data": {
            "text/plain": [
              "{'apple': 1,\n",
              " 'grapes': 9,\n",
              " 'guava': 3,\n",
              " 'mango': 2,\n",
              " 'orange': 5,\n",
              " 'papaya': 6,\n",
              " 'pomegranate': 4,\n",
              " 'x': 3,\n",
              " 'y': 2,\n",
              " 'z': 1}"
            ]
          },
          "metadata": {},
          "execution_count": 59
        }
      ]
    },
    {
      "cell_type": "code",
      "metadata": {
        "id": "rfLdkK1xkUSD"
      },
      "source": [
        "d.update({'a':2,'b':3,'c':4})"
      ],
      "execution_count": 62,
      "outputs": []
    },
    {
      "cell_type": "code",
      "metadata": {
        "colab": {
          "base_uri": "https://localhost:8080/"
        },
        "id": "t89NcTXzkacS",
        "outputId": "319356f7-bfb9-4745-acfb-8c5437ec0e39"
      },
      "source": [
        "d"
      ],
      "execution_count": 63,
      "outputs": [
        {
          "output_type": "execute_result",
          "data": {
            "text/plain": [
              "{'a': 2,\n",
              " 'apple': 1,\n",
              " 'b': 3,\n",
              " 'c': 4,\n",
              " 'grapes': 9,\n",
              " 'guava': 3,\n",
              " 'mango': 2,\n",
              " 'orange': 5,\n",
              " 'papaya': 6,\n",
              " 'pomegranate': 4,\n",
              " 'x': 3,\n",
              " 'y': 2,\n",
              " 'z': 1}"
            ]
          },
          "metadata": {},
          "execution_count": 63
        }
      ]
    },
    {
      "cell_type": "code",
      "metadata": {
        "id": "6W2SGvIEkgvA"
      },
      "source": [
        "l = ('angoot',7)"
      ],
      "execution_count": 65,
      "outputs": []
    },
    {
      "cell_type": "code",
      "metadata": {
        "id": "skRRF0pAkvvm"
      },
      "source": [
        "d.update([l])"
      ],
      "execution_count": 70,
      "outputs": []
    },
    {
      "cell_type": "code",
      "metadata": {
        "colab": {
          "base_uri": "https://localhost:8080/"
        },
        "id": "hWuXgco-kzbg",
        "outputId": "c539c506-ca3c-40a9-95db-23cc0959c9eb"
      },
      "source": [
        "d"
      ],
      "execution_count": 68,
      "outputs": [
        {
          "output_type": "execute_result",
          "data": {
            "text/plain": [
              "{'a': 2,\n",
              " 'angoot': 7,\n",
              " 'apple': 1,\n",
              " 'b': 3,\n",
              " 'c': 4,\n",
              " 'grapes': 9,\n",
              " 'guava': 3,\n",
              " 'mango': 2,\n",
              " 'orange': 5,\n",
              " 'papaya': 6,\n",
              " 'pomegranate': 4,\n",
              " 'x': 3,\n",
              " 'y': 2,\n",
              " 'z': 1}"
            ]
          },
          "metadata": {},
          "execution_count": 68
        }
      ]
    },
    {
      "cell_type": "code",
      "metadata": {
        "id": "qKS94FItk10A"
      },
      "source": [
        "#accesing values in a dictionary"
      ],
      "execution_count": 72,
      "outputs": []
    },
    {
      "cell_type": "code",
      "metadata": {
        "id": "m4Dt9KV7laKS"
      },
      "source": [
        "#using keys"
      ],
      "execution_count": 75,
      "outputs": []
    },
    {
      "cell_type": "code",
      "metadata": {
        "colab": {
          "base_uri": "https://localhost:8080/"
        },
        "id": "H6TW9yVqlG9q",
        "outputId": "20449a68-4cf6-4701-ee49-0c94394a325f"
      },
      "source": [
        "d['a']"
      ],
      "execution_count": 76,
      "outputs": [
        {
          "output_type": "execute_result",
          "data": {
            "text/plain": [
              "2"
            ]
          },
          "metadata": {},
          "execution_count": 76
        }
      ]
    },
    {
      "cell_type": "code",
      "metadata": {
        "colab": {
          "base_uri": "https://localhost:8080/"
        },
        "id": "VMQSCNtglXEI",
        "outputId": "6ca71f8e-22cd-4896-b124-d0a4180afe15"
      },
      "source": [
        "d['apple']"
      ],
      "execution_count": 77,
      "outputs": [
        {
          "output_type": "execute_result",
          "data": {
            "text/plain": [
              "1"
            ]
          },
          "metadata": {},
          "execution_count": 77
        }
      ]
    },
    {
      "cell_type": "code",
      "metadata": {
        "id": "ZU9KcTHtlYaj"
      },
      "source": [
        "# using get method -- return None if doesn't exist."
      ],
      "execution_count": 84,
      "outputs": []
    },
    {
      "cell_type": "code",
      "metadata": {
        "colab": {
          "base_uri": "https://localhost:8080/"
        },
        "id": "xxgYIaoulyTU",
        "outputId": "23f71eb8-4916-4be4-9244-5d244ebb33c4"
      },
      "source": [
        "d.get('orange')"
      ],
      "execution_count": 85,
      "outputs": [
        {
          "output_type": "execute_result",
          "data": {
            "text/plain": [
              "5"
            ]
          },
          "metadata": {},
          "execution_count": 85
        }
      ]
    },
    {
      "cell_type": "code",
      "metadata": {
        "colab": {
          "base_uri": "https://localhost:8080/"
        },
        "id": "nOzGmfnxl0iH",
        "outputId": "7c71b6bb-cc18-43de-8a12-3185967bdcc1"
      },
      "source": [
        "d.get('papaya')"
      ],
      "execution_count": 86,
      "outputs": [
        {
          "output_type": "execute_result",
          "data": {
            "text/plain": [
              "6"
            ]
          },
          "metadata": {},
          "execution_count": 86
        }
      ]
    },
    {
      "cell_type": "code",
      "metadata": {
        "id": "lEORCkeCl3zz"
      },
      "source": [
        "#length of a dictionary"
      ],
      "execution_count": 87,
      "outputs": []
    },
    {
      "cell_type": "code",
      "metadata": {
        "colab": {
          "base_uri": "https://localhost:8080/"
        },
        "id": "bgzWXYhAmQRK",
        "outputId": "0479f1c1-2160-4dc2-f3f6-d7933019bca1"
      },
      "source": [
        "len(d)"
      ],
      "execution_count": 89,
      "outputs": [
        {
          "output_type": "execute_result",
          "data": {
            "text/plain": [
              "14"
            ]
          },
          "metadata": {},
          "execution_count": 89
        }
      ]
    },
    {
      "cell_type": "code",
      "metadata": {
        "id": "MGZH90mAmQzK"
      },
      "source": [
        "# keys of dictionary"
      ],
      "execution_count": 90,
      "outputs": []
    },
    {
      "cell_type": "code",
      "metadata": {
        "colab": {
          "base_uri": "https://localhost:8080/"
        },
        "id": "1RGh85RpmVaE",
        "outputId": "3e476d94-c0e7-4ac6-8750-b664ce7ff93f"
      },
      "source": [
        "d.keys()"
      ],
      "execution_count": 91,
      "outputs": [
        {
          "output_type": "execute_result",
          "data": {
            "text/plain": [
              "dict_keys(['apple', 'mango', 'guava', 'pomegranate', 'orange', 'papaya', 'grapes', 'y', 'x', 'z', 'a', 'b', 'c', 'angoot'])"
            ]
          },
          "metadata": {},
          "execution_count": 91
        }
      ]
    },
    {
      "cell_type": "code",
      "metadata": {
        "id": "uQEd6ua9mX2l"
      },
      "source": [
        "# values of dictionary"
      ],
      "execution_count": 92,
      "outputs": []
    },
    {
      "cell_type": "code",
      "metadata": {
        "colab": {
          "base_uri": "https://localhost:8080/"
        },
        "id": "cuzHLC-wmb-J",
        "outputId": "09a788d4-979d-482c-8bad-4f66852bccb9"
      },
      "source": [
        "d.values()"
      ],
      "execution_count": 93,
      "outputs": [
        {
          "output_type": "execute_result",
          "data": {
            "text/plain": [
              "dict_values([1, 2, 3, 4, 5, 6, 9, 2, 3, 1, 2, 3, 4, 7])"
            ]
          },
          "metadata": {},
          "execution_count": 93
        }
      ]
    },
    {
      "cell_type": "code",
      "metadata": {
        "id": "CVVpCCYNmdhp"
      },
      "source": [
        "# fromkeys() method -- sets key value pairs with the given iterables and returns a new dictionary"
      ],
      "execution_count": 113,
      "outputs": []
    },
    {
      "cell_type": "code",
      "metadata": {
        "id": "YCay4ra0nCgV"
      },
      "source": [
        "# fromkeys(iterable,value)"
      ],
      "execution_count": 96,
      "outputs": []
    },
    {
      "cell_type": "code",
      "metadata": {
        "id": "uK8YXEwpnMgY"
      },
      "source": [
        "t = (9,8,7,6,5)"
      ],
      "execution_count": 97,
      "outputs": []
    },
    {
      "cell_type": "code",
      "metadata": {
        "colab": {
          "base_uri": "https://localhost:8080/"
        },
        "id": "Ml3r7xXanPfE",
        "outputId": "a3f76968-41ea-4a63-9cec-1fc746f2bceb"
      },
      "source": [
        "d.fromkeys(t,\"happy\")"
      ],
      "execution_count": 98,
      "outputs": [
        {
          "output_type": "execute_result",
          "data": {
            "text/plain": [
              "{5: 'happy', 6: 'happy', 7: 'happy', 8: 'happy', 9: 'happy'}"
            ]
          },
          "metadata": {},
          "execution_count": 98
        }
      ]
    },
    {
      "cell_type": "code",
      "metadata": {
        "id": "rJ4nTggZnTfM"
      },
      "source": [
        "# by default it would assign None if no values is specified"
      ],
      "execution_count": 100,
      "outputs": []
    },
    {
      "cell_type": "code",
      "metadata": {
        "colab": {
          "base_uri": "https://localhost:8080/"
        },
        "id": "-qeFAglinhQE",
        "outputId": "356c3e54-d86b-477b-d509-60888802a663"
      },
      "source": [
        "d.fromkeys(t)"
      ],
      "execution_count": 106,
      "outputs": [
        {
          "output_type": "execute_result",
          "data": {
            "text/plain": [
              "{5: None, 6: None, 7: None, 8: None, 9: None}"
            ]
          },
          "metadata": {},
          "execution_count": 106
        }
      ]
    },
    {
      "cell_type": "code",
      "metadata": {
        "id": "ZOZoG6HHnkCh"
      },
      "source": [
        "#setdefault() method in python and return it -- also returns the of the key if it is present"
      ],
      "execution_count": 107,
      "outputs": []
    },
    {
      "cell_type": "code",
      "metadata": {
        "id": "y7rQBTO7nuxL"
      },
      "source": [
        "#sets a default value provided for the given key and sets None if the key is not present"
      ],
      "execution_count": 108,
      "outputs": []
    },
    {
      "cell_type": "code",
      "metadata": {
        "colab": {
          "base_uri": "https://localhost:8080/"
        },
        "id": "IX51VtpYoFBR",
        "outputId": "4e2bbfb8-158f-4734-8d5f-19090570397c"
      },
      "source": [
        "d.setdefault(10,10)"
      ],
      "execution_count": 109,
      "outputs": [
        {
          "output_type": "execute_result",
          "data": {
            "text/plain": [
              "10"
            ]
          },
          "metadata": {},
          "execution_count": 109
        }
      ]
    },
    {
      "cell_type": "code",
      "metadata": {
        "colab": {
          "base_uri": "https://localhost:8080/"
        },
        "id": "vAqn8D-eoMMZ",
        "outputId": "4480d828-6878-479b-c021-5fe524134c21"
      },
      "source": [
        "d"
      ],
      "execution_count": 110,
      "outputs": [
        {
          "output_type": "execute_result",
          "data": {
            "text/plain": [
              "{10: 10,\n",
              " 'a': 2,\n",
              " 'angoot': 7,\n",
              " 'apple': 1,\n",
              " 'b': 3,\n",
              " 'c': 4,\n",
              " 'grapes': 9,\n",
              " 'guava': 3,\n",
              " 'mango': 2,\n",
              " 'orange': 5,\n",
              " 'papaya': 6,\n",
              " 'pomegranate': 4,\n",
              " 'x': 3,\n",
              " 'y': 2,\n",
              " 'z': 1}"
            ]
          },
          "metadata": {},
          "execution_count": 110
        }
      ]
    },
    {
      "cell_type": "code",
      "metadata": {
        "id": "JfAOZGy1oPUD"
      },
      "source": [
        "d.setdefault(11)"
      ],
      "execution_count": 111,
      "outputs": []
    },
    {
      "cell_type": "code",
      "metadata": {
        "colab": {
          "base_uri": "https://localhost:8080/"
        },
        "id": "3yLr-D7ZpBH0",
        "outputId": "4ee7a882-4d8b-4659-8eee-0988835b6205"
      },
      "source": [
        "d"
      ],
      "execution_count": 112,
      "outputs": [
        {
          "output_type": "execute_result",
          "data": {
            "text/plain": [
              "{10: 10,\n",
              " 11: None,\n",
              " 'a': 2,\n",
              " 'angoot': 7,\n",
              " 'apple': 1,\n",
              " 'b': 3,\n",
              " 'c': 4,\n",
              " 'grapes': 9,\n",
              " 'guava': 3,\n",
              " 'mango': 2,\n",
              " 'orange': 5,\n",
              " 'papaya': 6,\n",
              " 'pomegranate': 4,\n",
              " 'x': 3,\n",
              " 'y': 2,\n",
              " 'z': 1}"
            ]
          },
          "metadata": {},
          "execution_count": 112
        }
      ]
    },
    {
      "cell_type": "code",
      "metadata": {
        "id": "TV2JTaDSpBqL"
      },
      "source": [
        "# updating values "
      ],
      "execution_count": 114,
      "outputs": []
    },
    {
      "cell_type": "code",
      "metadata": {
        "id": "dcTcScoVpO5m"
      },
      "source": [
        "d['y'] = 4"
      ],
      "execution_count": 115,
      "outputs": []
    },
    {
      "cell_type": "code",
      "metadata": {
        "id": "44ZJsN_ppRZF"
      },
      "source": [
        "d['x'] = 5"
      ],
      "execution_count": 116,
      "outputs": []
    },
    {
      "cell_type": "code",
      "metadata": {
        "colab": {
          "base_uri": "https://localhost:8080/"
        },
        "id": "cygIhXsypTQD",
        "outputId": "cf6d9907-d00a-480e-a159-d1165c989cce"
      },
      "source": [
        "d"
      ],
      "execution_count": 117,
      "outputs": [
        {
          "output_type": "execute_result",
          "data": {
            "text/plain": [
              "{10: 10,\n",
              " 11: None,\n",
              " 'a': 2,\n",
              " 'angoot': 7,\n",
              " 'apple': 1,\n",
              " 'b': 3,\n",
              " 'c': 4,\n",
              " 'grapes': 9,\n",
              " 'guava': 3,\n",
              " 'mango': 2,\n",
              " 'orange': 5,\n",
              " 'papaya': 6,\n",
              " 'pomegranate': 4,\n",
              " 'x': 5,\n",
              " 'y': 4,\n",
              " 'z': 1}"
            ]
          },
          "metadata": {},
          "execution_count": 117
        }
      ]
    },
    {
      "cell_type": "code",
      "metadata": {
        "id": "r2S2_BK2pTiU"
      },
      "source": [
        "# deleting elements in a dictionary"
      ],
      "execution_count": 118,
      "outputs": []
    },
    {
      "cell_type": "code",
      "metadata": {
        "id": "RPncywoQpY6O"
      },
      "source": [
        "#using del keyword"
      ],
      "execution_count": 119,
      "outputs": []
    },
    {
      "cell_type": "code",
      "metadata": {
        "id": "LFi7VEjLpbUo"
      },
      "source": [
        "del d['orange']"
      ],
      "execution_count": 120,
      "outputs": []
    },
    {
      "cell_type": "code",
      "metadata": {
        "id": "wc5IiC2ypdYy"
      },
      "source": [
        "del d['mango']"
      ],
      "execution_count": 122,
      "outputs": []
    },
    {
      "cell_type": "code",
      "metadata": {
        "colab": {
          "base_uri": "https://localhost:8080/"
        },
        "id": "CjhiCRLlpfWY",
        "outputId": "6d4be0ba-9bc3-4eb8-f43c-54e9f6c1cffd"
      },
      "source": [
        "d"
      ],
      "execution_count": 123,
      "outputs": [
        {
          "output_type": "execute_result",
          "data": {
            "text/plain": [
              "{10: 10,\n",
              " 11: None,\n",
              " 'a': 2,\n",
              " 'angoot': 7,\n",
              " 'apple': 1,\n",
              " 'b': 3,\n",
              " 'c': 4,\n",
              " 'grapes': 9,\n",
              " 'guava': 3,\n",
              " 'papaya': 6,\n",
              " 'pomegranate': 4,\n",
              " 'x': 5,\n",
              " 'y': 4,\n",
              " 'z': 1}"
            ]
          },
          "metadata": {},
          "execution_count": 123
        }
      ]
    },
    {
      "cell_type": "code",
      "metadata": {
        "id": "PQAax5exphhl"
      },
      "source": [
        "# using pop method"
      ],
      "execution_count": 124,
      "outputs": []
    },
    {
      "cell_type": "code",
      "metadata": {
        "colab": {
          "base_uri": "https://localhost:8080/"
        },
        "id": "lohhWJ2Npm4B",
        "outputId": "06cebc99-d0bc-4536-cd72-8ae478b09de8"
      },
      "source": [
        "d.pop(10)"
      ],
      "execution_count": 125,
      "outputs": [
        {
          "output_type": "execute_result",
          "data": {
            "text/plain": [
              "10"
            ]
          },
          "metadata": {},
          "execution_count": 125
        }
      ]
    },
    {
      "cell_type": "code",
      "metadata": {
        "id": "V7wMaV28pq1F"
      },
      "source": [
        "d.pop(11)"
      ],
      "execution_count": 127,
      "outputs": []
    },
    {
      "cell_type": "code",
      "metadata": {
        "id": "lsYVfxpapsK4"
      },
      "source": [
        "# clearing all the values of a dictionary"
      ],
      "execution_count": 128,
      "outputs": []
    },
    {
      "cell_type": "code",
      "metadata": {
        "id": "H_EPXyuRpzmV"
      },
      "source": [
        "d.clear()"
      ],
      "execution_count": 129,
      "outputs": []
    },
    {
      "cell_type": "code",
      "metadata": {
        "colab": {
          "base_uri": "https://localhost:8080/"
        },
        "id": "XHY5Z1T_p4o6",
        "outputId": "78262a76-3d3d-46ec-efc3-133572fea8c7"
      },
      "source": [
        "d"
      ],
      "execution_count": 130,
      "outputs": [
        {
          "output_type": "execute_result",
          "data": {
            "text/plain": [
              "{}"
            ]
          },
          "metadata": {},
          "execution_count": 130
        }
      ]
    },
    {
      "cell_type": "code",
      "metadata": {
        "id": "vO_v8L_Zp5Lq"
      },
      "source": [
        "#deleting the dictionary object "
      ],
      "execution_count": 131,
      "outputs": []
    },
    {
      "cell_type": "code",
      "metadata": {
        "id": "ciiM4QBpp8cp"
      },
      "source": [
        "del d"
      ],
      "execution_count": 132,
      "outputs": []
    },
    {
      "cell_type": "code",
      "metadata": {
        "colab": {
          "base_uri": "https://localhost:8080/",
          "height": 163
        },
        "id": "jMCfnhsWp9kX",
        "outputId": "9c98f2dd-4526-4d0d-d52a-659e381e40fe"
      },
      "source": [
        "d"
      ],
      "execution_count": 133,
      "outputs": [
        {
          "output_type": "error",
          "ename": "NameError",
          "evalue": "ignored",
          "traceback": [
            "\u001b[0;31m---------------------------------------------------------------------------\u001b[0m",
            "\u001b[0;31mNameError\u001b[0m                                 Traceback (most recent call last)",
            "\u001b[0;32m<ipython-input-133-e983f374794d>\u001b[0m in \u001b[0;36m<module>\u001b[0;34m()\u001b[0m\n\u001b[0;32m----> 1\u001b[0;31m \u001b[0md\u001b[0m\u001b[0;34m\u001b[0m\u001b[0;34m\u001b[0m\u001b[0m\n\u001b[0m",
            "\u001b[0;31mNameError\u001b[0m: name 'd' is not defined"
          ]
        }
      ]
    },
    {
      "cell_type": "code",
      "metadata": {
        "id": "els3JFSNp-NG"
      },
      "source": [
        ""
      ],
      "execution_count": null,
      "outputs": []
    }
  ]
}